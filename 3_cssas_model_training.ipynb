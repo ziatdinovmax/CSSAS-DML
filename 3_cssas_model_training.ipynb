{
  "nbformat": 4,
  "nbformat_minor": 0,
  "metadata": {
    "colab": {
      "name": "cssas-model_training.ipynb",
      "provenance": [],
      "collapsed_sections": [],
      "include_colab_link": true
    },
    "kernelspec": {
      "name": "python3",
      "display_name": "Python 3"
    },
    "accelerator": "GPU"
  },
  "cells": [
    {
      "cell_type": "markdown",
      "metadata": {
        "id": "view-in-github",
        "colab_type": "text"
      },
      "source": [
        "<a href=\"https://colab.research.google.com/github/ziatdinovmax/CSSAS-DML/blob/master/3_cssas_model_training.ipynb\" target=\"_parent\"><img src=\"https://colab.research.google.com/assets/colab-badge.svg\" alt=\"Open In Colab\"/></a>"
      ]
    },
    {
      "cell_type": "markdown",
      "metadata": {
        "id": "hxl8J3rGuoJ5",
        "colab_type": "text"
      },
      "source": [
        "## Model training\n",
        "\n",
        "Prepared by Maxim Ziatdinov (October 2019)\n",
        "\n",
        "\n",
        "---\n",
        "This notebook loads training data data and performs a training of a fully convolutional neural network for finding \"particles\" in noisy microscopy data. It has an option of starting the training with the weights of the already trained model, which may save some time.\n",
        "\n",
        "\n",
        "---\n",
        "\n",
        "\n"
      ]
    },
    {
      "cell_type": "code",
      "metadata": {
        "id": "7mnRYyUb3aXl",
        "colab_type": "code",
        "cellView": "form",
        "colab": {}
      },
      "source": [
        "#@title Import modules\n",
        "# Data manipulation and plotting\n",
        "import os\n",
        "import numpy as np\n",
        "import matplotlib\n",
        "import matplotlib.pyplot as plt\n",
        "# Neural networks\n",
        "import torch\n",
        "import torch.nn as nn\n",
        "import torch.nn.functional as F"
      ],
      "execution_count": 0,
      "outputs": []
    },
    {
      "cell_type": "code",
      "metadata": {
        "id": "BBOJmDkM3Px2",
        "colab_type": "code",
        "cellView": "form",
        "colab": {}
      },
      "source": [
        "#@title Load custom modules { form-width: \"20%\" }\n",
        "\n",
        "def load_torchmodel(weights_path, model):\n",
        "    '''Loads saved weights into a model'''\n",
        "    if torch.cuda.device_count() > 0:\n",
        "        checkpoint = torch.load(weights_path)\n",
        "    else:\n",
        "        checkpoint = torch.load(weights_path, map_location='cpu')\n",
        "    model.load_state_dict(checkpoint)\n",
        "    return model\n",
        "    \n",
        "class conv2dblock(nn.Module):\n",
        "    '''\n",
        "    Creates a block consisting of convolutional\n",
        "    layer, leaky relu and (optionally) dropout and\n",
        "    batch normalization\n",
        "    '''\n",
        "    def __init__(self, input_channels, output_channels,\n",
        "                 kernel_size=3, stride=1, padding=1,\n",
        "                 use_batchnorm=False, lrelu_a=0.01,\n",
        "                 dropout_=0):\n",
        "        '''\n",
        "        Args:\n",
        "            input_channels: number of channels in the previous/input layer\n",
        "            output_channels: number of the output channels for the present layer\n",
        "            kernel_size: size (in pixels) of convolutional filter\n",
        "            stride: value of convolutional filter stride\n",
        "            padding: value of padding at the edges\n",
        "            use_batchnorm (boolean): usage of batch normalization\n",
        "            lrelu_a: value of alpha parameter in leaky/paramteric ReLU activation\n",
        "            dropout_: value of dropout\n",
        "        '''\n",
        "        super(conv2dblock, self).__init__()\n",
        "        block = []\n",
        "        block.append(nn.Conv2d(input_channels,\n",
        "                               output_channels,\n",
        "                               kernel_size=kernel_size,\n",
        "                               stride=stride,\n",
        "                               padding=padding))\n",
        "        if dropout_ > 0:\n",
        "            block.append(nn.Dropout(dropout_))\n",
        "        block.append(nn.LeakyReLU(negative_slope=lrelu_a))\n",
        "        if use_batchnorm:\n",
        "            block.append(nn.BatchNorm2d(output_channels))\n",
        "        self.block = nn.Sequential(*block)\n",
        "\n",
        "    def forward(self, x):\n",
        "        '''Forward path'''\n",
        "        output = self.block(x)\n",
        "        return output\n",
        "\n",
        "class dilation_block(nn.Module):\n",
        "    '''\n",
        "    Creates a block with dilated convolutional\n",
        "    layers (aka atrous convolutions)\n",
        "    '''\n",
        "    def __init__(self, input_channels, output_channels,\n",
        "                 dilation_values, padding_values,\n",
        "                 kernel_size=3, stride=1, lrelu_a=0.01,\n",
        "                 use_batchnorm=False, dropout_=0):\n",
        "        '''\n",
        "        Args:\n",
        "            input_channels: number of channels in the previous/input layer\n",
        "            output_channels: number of the output channels for the present layer\n",
        "            dilation_values: list of dilation rates for convolution operation\n",
        "            kernel_size: size (in pixels) of convolutional filter\n",
        "            stride: value of convolutional filter stride\n",
        "            padding: value of padding at the edges\n",
        "            use_batchnorm (boolean): usage of batch normalization\n",
        "            lrelu_a: value of alpha parameter in leaky/paramteric ReLU activation\n",
        "            dropout_: value of dropout\n",
        "            '''\n",
        "        super(dilation_block, self).__init__()\n",
        "        atrous_module = []\n",
        "        for idx, (dil, pad) in enumerate(zip(dilation_values, padding_values)):\n",
        "            input_channels = output_channels if idx > 0 else input_channels\n",
        "            atrous_module.append(nn.Conv2d(input_channels,\n",
        "                                           output_channels,\n",
        "                                           kernel_size=kernel_size,\n",
        "                                           stride=stride,\n",
        "                                           padding=pad,\n",
        "                                           dilation=dil,\n",
        "                                           bias=True))\n",
        "            if dropout_ > 0:\n",
        "                atrous_module.append(nn.Dropout(dropout_))\n",
        "            atrous_module.append(nn.LeakyReLU(negative_slope=lrelu_a))\n",
        "            if use_batchnorm:\n",
        "                atrous_module.append(nn.BatchNorm2d(output_channels))\n",
        "        self.atrous_module = nn.Sequential(*atrous_module)\n",
        "\n",
        "    def forward(self, x):\n",
        "        '''Forward path'''\n",
        "        atrous_layers = []\n",
        "        for conv_layer in self.atrous_module:\n",
        "            x = conv_layer(x)\n",
        "            atrous_layers.append(x.unsqueeze(-1))\n",
        "        return torch.sum(torch.cat(atrous_layers, dim=-1), dim=-1)\n",
        "\n",
        "class upsample_block(nn.Module):\n",
        "    '''\n",
        "    Defines upsampling block performed either with\n",
        "    bilinear interpolation followed by 1-by-1\n",
        "    convolution or with a transposed convolution\n",
        "    '''\n",
        "    def __init__(self, input_channels, output_channels,\n",
        "                 mode='interpolate', kernel_size=1,\n",
        "                 stride=1, padding=0):\n",
        "        '''\n",
        "        Args:\n",
        "            input_channels: number of channels in the previous/input layer\n",
        "            output_channels: number of the output channels for the present layer\n",
        "            mode: upsampling mode (default: 'interpolate')\n",
        "            kernel_size: size (in pixels) of convolutional filter\n",
        "            stride: value of convolutional filter stride\n",
        "            padding: value of padding at the edges\n",
        "            '''\n",
        "        super(upsample_block, self).__init__()\n",
        "        self.mode = mode\n",
        "        self.conv = nn.Conv2d(\n",
        "            input_channels, output_channels,\n",
        "            kernel_size = kernel_size,\n",
        "            stride = stride, padding = padding)\n",
        "        self.conv_t = nn.ConvTranspose2d(\n",
        "            input_channels, output_channels,\n",
        "            kernel_size=2, stride=2, padding = 0)\n",
        "\n",
        "    def forward(self, x):\n",
        "        '''Defines a forward path'''\n",
        "        if self.mode == 'interpolate':\n",
        "            x = F.interpolate(\n",
        "                x, scale_factor=2,\n",
        "                mode='bilinear', align_corners=False)\n",
        "            return self.conv(x)\n",
        "        return self.conv_t(x)\n",
        "\n",
        "\n",
        "\n",
        "class atomsegnet(nn.Module):\n",
        "    '''\n",
        "    Builds  a fully convolutional neural network model\n",
        "    '''\n",
        "    def __init__(self, nb_classes=1, nb_filters=32):\n",
        "        '''\n",
        "        Args:\n",
        "            nb_filters: number of filters in the first convolutional layer\n",
        "        '''\n",
        "        super(atomsegnet, self).__init__()\n",
        "        self.pxac = 'sigmoid' if nb_classes < 2 else 'softmax'\n",
        "        self.c1 = conv2dblock(1, nb_filters)\n",
        "        \n",
        "        self.c2 = nn.Sequential(conv2dblock(nb_filters,\n",
        "                                            nb_filters*2),\n",
        "                                conv2dblock(nb_filters*2,\n",
        "                                            nb_filters*2))\n",
        "        \n",
        "        self.c3 = nn.Sequential(conv2dblock(nb_filters*2,\n",
        "                                            nb_filters*4,\n",
        "                                            dropout_=0.3),\n",
        "                                conv2dblock(nb_filters*4,\n",
        "                                            nb_filters*4,\n",
        "                                            dropout_=0.3))\n",
        "        \n",
        "        self.bn = dilation_block(nb_filters*4,\n",
        "                                 nb_filters*8,\n",
        "                                 dilation_values=[2, 4, 6],\n",
        "                                 padding_values=[2, 4, 6],\n",
        "                                 dropout_=0.5)\n",
        "        \n",
        "        self.upsample_block1 = upsample_block(nb_filters*8,\n",
        "                                              nb_filters*4)\n",
        "        \n",
        "        self.c4 = nn.Sequential(conv2dblock(nb_filters*8,\n",
        "                                            nb_filters*4,\n",
        "                                            dropout_=0.3),\n",
        "                                conv2dblock(nb_filters*4,\n",
        "                                            nb_filters*4,\n",
        "                                            dropout_=0.3))\n",
        "        \n",
        "        self.upsample_block2 = upsample_block(nb_filters*4,\n",
        "                                              nb_filters*2)\n",
        "        \n",
        "        self.c5 = nn.Sequential(conv2dblock(nb_filters*4,\n",
        "                                            nb_filters*2),\n",
        "                                conv2dblock(nb_filters*2,\n",
        "                                            nb_filters*2))\n",
        "        \n",
        "        self.upsample_block3 = upsample_block(nb_filters*2,\n",
        "                                              nb_filters)\n",
        "        \n",
        "        self.c6 = conv2dblock(nb_filters*2,\n",
        "                              nb_filters)\n",
        "        \n",
        "        self.px = nn.Conv2d(nb_filters,\n",
        "                            nb_classes,\n",
        "                            kernel_size=1,\n",
        "                            stride=1,\n",
        "                            padding=0)\n",
        "               \n",
        "    def forward(self, x):\n",
        "        '''Defines a forward path'''\n",
        "        # Contracting path\n",
        "        c1 = self.c1(x)\n",
        "        d1 = F.max_pool2d(c1, kernel_size=2, stride=2)\n",
        "        c2 = self.c2(d1)\n",
        "        d2 = F.max_pool2d(c2, kernel_size=2, stride=2)\n",
        "        c3 = self.c3(d2)\n",
        "        d3 = F.max_pool2d(c3, kernel_size=2, stride=2)\n",
        "        # Atrous convolutions\n",
        "        bn = self.bn(d3)\n",
        "        # Expanding path\n",
        "        u3 = self.upsample_block1(bn)\n",
        "        u3 = torch.cat([c3, u3], dim=1)\n",
        "        u3 = self.c4(u3)\n",
        "        u2 = self.upsample_block2(u3)\n",
        "        u2 = torch.cat([c2, u2], dim=1)\n",
        "        u2 = self.c5(u2)\n",
        "        u1 = self.upsample_block3(u2)\n",
        "        u1 = torch.cat([c1, u1], dim=1)\n",
        "        u1 = self.c6(u1)\n",
        "        # pixel-wise classification\n",
        "        px = self.px(u1)\n",
        "        if self.pxac == 'sigmoid':\n",
        "            output = torch.sigmoid(px)\n",
        "        elif self.pxac == 'softmax':\n",
        "            output = F.log_softmax(px, dim=1)\n",
        "        return output"
      ],
      "execution_count": 0,
      "outputs": []
    },
    {
      "cell_type": "markdown",
      "metadata": {
        "id": "C51qVIWcqXFZ",
        "colab_type": "text"
      },
      "source": [
        "## Load training data"
      ]
    },
    {
      "cell_type": "markdown",
      "metadata": {
        "id": "qKhRWuP7oP_1",
        "colab_type": "text"
      },
      "source": [
        "Mount google drive:"
      ]
    },
    {
      "cell_type": "code",
      "metadata": {
        "id": "miMprJZ-oOlz",
        "colab_type": "code",
        "outputId": "22328a39-c87b-43a8-c661-a5f278b60319",
        "colab": {
          "base_uri": "https://localhost:8080/",
          "height": 34
        }
      },
      "source": [
        "from google.colab import drive\n",
        "drive.mount('/content/drive')"
      ],
      "execution_count": 0,
      "outputs": [
        {
          "output_type": "stream",
          "text": [
            "Drive already mounted at /content/drive; to attempt to forcibly remount, call drive.mount(\"/content/drive\", force_remount=True).\n"
          ],
          "name": "stdout"
        }
      ]
    },
    {
      "cell_type": "markdown",
      "metadata": {
        "id": "JdtDD4HfjQTu",
        "colab_type": "text"
      },
      "source": [
        "Load training data:"
      ]
    },
    {
      "cell_type": "code",
      "metadata": {
        "id": "r_Zm9NUujU5c",
        "colab_type": "code",
        "colab": {}
      },
      "source": [
        "# specify directory with data in google drive\n",
        "datadir = 'drive/Shared drives/CSSAS-ML/training_data'\n",
        "\n",
        "images_all = np.load(\n",
        "    os.path.join(datadir, 'pnnl_training_images.npy'), allow_pickle=True)[()]\n",
        "labels_all = np.load(\n",
        "    os.path.join(datadir, 'pnnl_training_labels.npy'), allow_pickle=True)[()]"
      ],
      "execution_count": 0,
      "outputs": []
    },
    {
      "cell_type": "markdown",
      "metadata": {
        "colab_type": "text",
        "id": "ajlbEMaSa-ZE"
      },
      "source": [
        "## Model training"
      ]
    },
    {
      "cell_type": "code",
      "metadata": {
        "colab_type": "code",
        "id": "wXMVUvR1Dsrm",
        "colab": {}
      },
      "source": [
        "# We may start using the weights of the already trained model\n",
        "use_pretrained = True\n",
        "pretrained_weights_path = 'drive/Shared drives/CSSAS-ML/pretrained/pnnl-100mL-part2-8.pt'\n",
        "# Initialize our model\n",
        "if use_pretrained:  \n",
        "    model = atomsegnet()\n",
        "    model = load_torchmodel(pretrained_weights_path, model)\n",
        "else:\n",
        "    model = atomsegnet()\n",
        "# move our model to GPU\n",
        "model.cuda()\n",
        "# specify loss function.\n",
        "criterion = torch.nn.BCELoss()\n",
        "# specify optimizer\n",
        "optimizer = torch.optim.Adam(model.parameters(), lr=1e-3)"
      ],
      "execution_count": 0,
      "outputs": []
    },
    {
      "cell_type": "code",
      "metadata": {
        "colab_type": "code",
        "id": "DfrI6ZgEEdcy",
        "outputId": "5304c0b6-f1d5-4556-b8b0-e5fd98e039b5",
        "colab": {
          "base_uri": "https://localhost:8080/",
          "height": 913
        }
      },
      "source": [
        "batch_size = 32 # number of images in one batch\n",
        "epochs = 500 # Number of epochs (here 1 epoch == 1 batch)\n",
        "save_weights = 100 # save weights every n-th epoch.\n",
        "print_loss = 10 # print loss every m-th epoch.\n",
        "savedir = 'drive/Shared drives/CSSAS-ML/saved_models/' # dir to save results\n",
        "# Start training\n",
        "train_losses = []\n",
        "for e in range(epochs):  \n",
        "    model.train()\n",
        "    running_loss = 0\n",
        "    # Generate batch of images with corresponding ground truth\n",
        "    batch_num = np.random.randint(0, len(images_all))\n",
        "    images = images_all[batch_num][:batch_size]\n",
        "    labels = labels_all[batch_num][:batch_size]\n",
        "    # Transform images and ground truth to torch tensors and move to GPU\n",
        "    images = torch.from_numpy(images).float()\n",
        "    labels = torch.from_numpy(labels).float()\n",
        "    images, labels = images.cuda(), labels.cuda() \n",
        "    # Forward --> Backward --> Optimize\n",
        "    optimizer.zero_grad() \n",
        "    prob = model.forward(images)\n",
        "    loss = criterion(prob, labels)\n",
        "    running_loss += loss.item()\n",
        "    loss.backward()\n",
        "    optimizer.step()\n",
        "    train_losses.append(running_loss)\n",
        "    # Print statistics\n",
        "    if e == 0 or (e+1)%print_loss == 0:\n",
        "        print('Epoch', str(e+1) + 4*'.', 'Training loss:',\n",
        "              str(np.around((running_loss), decimals=8)))\n",
        "    # Save model weights\n",
        "    if (e+1)%save_weights == 0:\n",
        "        torch.save(model.state_dict(), \n",
        "                   os.path.join(savedir, 'pnnl-model-1-epoch-{}'.format(e+1)+'.pt'))\n",
        "# Save final weights\n",
        "torch.save(model.state_dict(), os.path.join(savedir, 'pnnl-model-1.pt'))"
      ],
      "execution_count": 0,
      "outputs": [
        {
          "output_type": "stream",
          "text": [
            "Epoch 1.... Training loss: 0.09920368\n",
            "Epoch 10.... Training loss: 0.09229717\n",
            "Epoch 20.... Training loss: 0.08059397\n",
            "Epoch 30.... Training loss: 0.08181105\n",
            "Epoch 40.... Training loss: 0.08275608\n",
            "Epoch 50.... Training loss: 0.07388188\n",
            "Epoch 60.... Training loss: 0.07447903\n",
            "Epoch 70.... Training loss: 0.07356308\n",
            "Epoch 80.... Training loss: 0.07555639\n",
            "Epoch 90.... Training loss: 0.06890152\n",
            "Epoch 100.... Training loss: 0.06407918\n",
            "Epoch 110.... Training loss: 0.07525395\n",
            "Epoch 120.... Training loss: 0.06116368\n",
            "Epoch 130.... Training loss: 0.0703219\n",
            "Epoch 140.... Training loss: 0.06796927\n",
            "Epoch 150.... Training loss: 0.06809495\n",
            "Epoch 160.... Training loss: 0.05940093\n",
            "Epoch 170.... Training loss: 0.07387992\n",
            "Epoch 180.... Training loss: 0.06844976\n",
            "Epoch 190.... Training loss: 0.06811372\n",
            "Epoch 200.... Training loss: 0.07631534\n",
            "Epoch 210.... Training loss: 0.06120227\n",
            "Epoch 220.... Training loss: 0.06710134\n",
            "Epoch 230.... Training loss: 0.06045723\n",
            "Epoch 240.... Training loss: 0.06666834\n",
            "Epoch 250.... Training loss: 0.0593725\n",
            "Epoch 260.... Training loss: 0.06740435\n",
            "Epoch 270.... Training loss: 0.06642693\n",
            "Epoch 280.... Training loss: 0.06247443\n",
            "Epoch 290.... Training loss: 0.06617027\n",
            "Epoch 300.... Training loss: 0.06201242\n",
            "Epoch 310.... Training loss: 0.06346117\n",
            "Epoch 320.... Training loss: 0.05736523\n",
            "Epoch 330.... Training loss: 0.07410573\n",
            "Epoch 340.... Training loss: 0.06411292\n",
            "Epoch 350.... Training loss: 0.06698265\n",
            "Epoch 360.... Training loss: 0.06841356\n",
            "Epoch 370.... Training loss: 0.06570425\n",
            "Epoch 380.... Training loss: 0.06195462\n",
            "Epoch 390.... Training loss: 0.06514753\n",
            "Epoch 400.... Training loss: 0.06648488\n",
            "Epoch 410.... Training loss: 0.06479153\n",
            "Epoch 420.... Training loss: 0.06569832\n",
            "Epoch 430.... Training loss: 0.06983843\n",
            "Epoch 440.... Training loss: 0.07272043\n",
            "Epoch 450.... Training loss: 0.05475495\n",
            "Epoch 460.... Training loss: 0.06183296\n",
            "Epoch 470.... Training loss: 0.06350063\n",
            "Epoch 480.... Training loss: 0.06371988\n",
            "Epoch 490.... Training loss: 0.06693701\n",
            "Epoch 500.... Training loss: 0.06852085\n"
          ],
          "name": "stdout"
        }
      ]
    },
    {
      "cell_type": "markdown",
      "metadata": {
        "id": "PU6H22wTs89a",
        "colab_type": "text"
      },
      "source": [
        "Plot losses:"
      ]
    },
    {
      "cell_type": "code",
      "metadata": {
        "id": "y8lXBZhSsxgT",
        "colab_type": "code",
        "outputId": "6b754d96-6f98-4017-9396-5c28581a27ed",
        "colab": {
          "base_uri": "https://localhost:8080/",
          "height": 300
        }
      },
      "source": [
        "plt.plot(train_losses)\n",
        "plt.xlabel('Epoch')\n",
        "plt.ylabel('Loss')"
      ],
      "execution_count": 0,
      "outputs": [
        {
          "output_type": "execute_result",
          "data": {
            "text/plain": [
              "Text(0, 0.5, 'Loss')"
            ]
          },
          "metadata": {
            "tags": []
          },
          "execution_count": 17
        },
        {
          "output_type": "display_data",
          "data": {
            "image/png": "[encoded data removed]",
            "text/plain": [
              "<Figure size 432x288 with 1 Axes>"
            ]
          },
          "metadata": {
            "tags": []
          }
        }
      ]
    },
    {
      "cell_type": "code",
      "metadata": {
        "id": "OAMIpXFkXs13",
        "colab_type": "code",
        "colab": {}
      },
      "source": [
        ""
      ],
      "execution_count": 0,
      "outputs": []
    }
  ]
}